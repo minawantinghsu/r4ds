{
  "nbformat": 4,
  "nbformat_minor": 0,
  "metadata": {
    "colab": {
      "name": "Assignment6.ipynb",
      "provenance": [],
      "mount_file_id": "1QH8kpu_WsAXeTawJhoRHQVsq4bpaNJT6",
      "authorship_tag": "ABX9TyMCkEEnRQEMWYPJA19FmL6S",
      "include_colab_link": true
    },
    "kernelspec": {
      "name": "python3",
      "display_name": "Python 3"
    },
    "language_info": {
      "name": "python"
    }
  },
  "cells": [
    {
      "cell_type": "markdown",
      "metadata": {
        "id": "view-in-github",
        "colab_type": "text"
      },
      "source": [
        "<a href=\"https://colab.research.google.com/github/minawantinghsu/r4ds/blob/master/5400Assignment6.ipynb\" target=\"_parent\"><img src=\"https://colab.research.google.com/assets/colab-badge.svg\" alt=\"Open In Colab\"/></a>"
      ]
    },
    {
      "cell_type": "code",
      "execution_count": 1,
      "metadata": {
        "colab": {
          "base_uri": "https://localhost:8080/"
        },
        "id": "qLHWF9JjOGAd",
        "outputId": "4ef8c5ad-6332-4c7a-a0fc-e781f71bc513"
      },
      "outputs": [
        {
          "output_type": "stream",
          "name": "stdout",
          "text": [
            "Drive already mounted at /content/drive; to attempt to forcibly remount, call drive.mount(\"/content/drive\", force_remount=True).\n"
          ]
        }
      ],
      "source": [
        "from google.colab import drive\n",
        "drive.mount('/content/drive')"
      ]
    },
    {
      "cell_type": "code",
      "source": [
        "!pip install pyspark"
      ],
      "metadata": {
        "colab": {
          "base_uri": "https://localhost:8080/"
        },
        "id": "tB740iRxOg_-",
        "outputId": "f03df072-0bee-4428-8584-e3c18075b155"
      },
      "execution_count": 2,
      "outputs": [
        {
          "output_type": "stream",
          "name": "stdout",
          "text": [
            "Collecting pyspark\n",
            "  Downloading pyspark-3.2.1.tar.gz (281.4 MB)\n",
            "\u001b[K     |████████████████████████████████| 281.4 MB 24 kB/s \n",
            "\u001b[?25hCollecting py4j==0.10.9.3\n",
            "  Downloading py4j-0.10.9.3-py2.py3-none-any.whl (198 kB)\n",
            "\u001b[K     |████████████████████████████████| 198 kB 58.0 MB/s \n",
            "\u001b[?25hBuilding wheels for collected packages: pyspark\n",
            "  Building wheel for pyspark (setup.py) ... \u001b[?25l\u001b[?25hdone\n",
            "  Created wheel for pyspark: filename=pyspark-3.2.1-py2.py3-none-any.whl size=281853642 sha256=140a70020f30cd56089e2f6a28ef3e83b0f6d985700e7100fb34e0293b16a80b\n",
            "  Stored in directory: /root/.cache/pip/wheels/9f/f5/07/7cd8017084dce4e93e84e92efd1e1d5334db05f2e83bcef74f\n",
            "Successfully built pyspark\n",
            "Installing collected packages: py4j, pyspark\n",
            "Successfully installed py4j-0.10.9.3 pyspark-3.2.1\n"
          ]
        }
      ]
    },
    {
      "cell_type": "code",
      "source": [
        "from pyspark.conf import SparkConf\n"
      ],
      "metadata": {
        "id": "M6U4KoJjlprf"
      },
      "execution_count": 3,
      "outputs": []
    },
    {
      "cell_type": "code",
      "source": [
        "from pyspark import SparkContext\n"
      ],
      "metadata": {
        "id": "hIEnr4Ykl5nw"
      },
      "execution_count": 4,
      "outputs": []
    },
    {
      "cell_type": "code",
      "source": [
        "from pyspark.sql import SQLContext\n",
        "\n"
      ],
      "metadata": {
        "id": "DJyUicUUl7uO"
      },
      "execution_count": 5,
      "outputs": []
    },
    {
      "cell_type": "code",
      "source": [
        "from pyspark.sql import SparkSession\n",
        "spark = SparkSession.builder\\\n",
        "        .master(\"local\")\\\n",
        "        .appName(\"Colab\")\\\n",
        "        .config('spark.ui.port', '4050')\\\n",
        "        .getOrCreate()"
      ],
      "metadata": {
        "id": "GZIJaHjmOm3H"
      },
      "execution_count": 6,
      "outputs": []
    },
    {
      "cell_type": "code",
      "source": [
        "spark"
      ],
      "metadata": {
        "colab": {
          "base_uri": "https://localhost:8080/",
          "height": 219
        },
        "id": "19us56dbQoTf",
        "outputId": "fe5b4cab-d489-4503-f16b-d2a1791239ed"
      },
      "execution_count": null,
      "outputs": [
        {
          "output_type": "execute_result",
          "data": {
            "text/plain": [
              "<pyspark.sql.session.SparkSession at 0x7f6f31ac5d50>"
            ],
            "text/html": [
              "\n",
              "            <div>\n",
              "                <p><b>SparkSession - in-memory</b></p>\n",
              "                \n",
              "        <div>\n",
              "            <p><b>SparkContext</b></p>\n",
              "\n",
              "            <p><a href=\"http://5cc8e8561819:4050\">Spark UI</a></p>\n",
              "\n",
              "            <dl>\n",
              "              <dt>Version</dt>\n",
              "                <dd><code>v3.2.1</code></dd>\n",
              "              <dt>Master</dt>\n",
              "                <dd><code>local</code></dd>\n",
              "              <dt>AppName</dt>\n",
              "                <dd><code>Colab</code></dd>\n",
              "            </dl>\n",
              "        </div>\n",
              "        \n",
              "            </div>\n",
              "        "
            ]
          },
          "metadata": {},
          "execution_count": 9
        }
      ]
    },
    {
      "cell_type": "code",
      "source": [
        "df = spark.read.csv('/content/drive/MyDrive/crunchbase_odm_orgs.csv', header=True)"
      ],
      "metadata": {
        "id": "WnLhwRrFQuCG"
      },
      "execution_count": 7,
      "outputs": []
    },
    {
      "cell_type": "code",
      "source": [
        "df.show(10)"
      ],
      "metadata": {
        "colab": {
          "base_uri": "https://localhost:8080/"
        },
        "id": "kXbeuEoigWhq",
        "outputId": "d9751dc5-aa01-4e7e-a060-9b4da0ab4b74"
      },
      "execution_count": 8,
      "outputs": [
        {
          "output_type": "stream",
          "name": "stdout",
          "text": [
            "+--------------------+--------------------+------------+------------+--------------------+-------------+--------------------+--------------------+--------------------+--------------------+--------------------+----------------------+--------------+----------+------------+--------------------+\n",
            "|                uuid|                name|        type|primary_role|              cb_url|       domain|        homepage_url|            logo_url|        facebook_url|         twitter_url|        linkedin_url|combined_stock_symbols|          city|    region|country_code|   short_description|\n",
            "+--------------------+--------------------+------------+------------+--------------------+-------------+--------------------+--------------------+--------------------+--------------------+--------------------+----------------------+--------------+----------+------------+--------------------+\n",
            "|e1393508-30ea-8a3...|            Wetpaint|organization|     company|https://www.crunc...| wetpaint.com|http://www.wetpai...|https://res.cloud...|https://www.faceb...|https://twitter.c...|https://www.linke...|                  null|      New York|  New York|         USA|Wetpaint offers a...|\n",
            "|bf4d7b0e-b34d-2fd...|                Zoho|organization|     company|https://www.crunc...|     zoho.com|https://www.zoho....|https://res.cloud...|http://www.facebo...|http://twitter.co...|http://www.linked...|                  null|    Pleasanton|California|         USA|Zoho offers a sui...|\n",
            "|5f2b40b8-d1b3-d32...|                Digg|organization|     company|https://www.crunc...|     digg.com| http://www.digg.com|https://res.cloud...|http://www.facebo...|http://twitter.co...|http://www.linked...|                  null|      New York|  New York|         USA|Digg Inc. operate...|\n",
            "|df662812-7f97-0b4...|            Facebook|organization|     company|https://www.crunc...| facebook.com|http://www.facebo...|https://res.cloud...|https://www.faceb...|https://twitter.c...|http://www.linked...|             nasdaq:FB|    Menlo Park|California|         USA|Facebook is an on...|\n",
            "|b08efc27-da40-505...|               Accel|organization|    investor|https://www.crunc...|    accel.com|http://www.accel.com|https://res.cloud...|http://www.facebo...|http://twitter.co...|https://www.linke...|                  null|     Palo Alto|California|         USA|Accel is an early...|\n",
            "|60485007-8856-bba...|           Omnidrive|organization|     company|https://www.crunc...|omnidrive.com|http://www.omnidr...|https://res.cloud...|http://www.facebo...|http://twitter.co...|                null|                  null|     Palo Alto|California|         USA|Omnidrive provide...|\n",
            "|4111dc8b-c0df-2d2...|                Geni|organization|     company|https://www.crunc...|     geni.com| http://www.geni.com|https://res.cloud...|https://www.faceb...|http://twitter.co...|https://www.linke...|                  null|West Hollywood|California|         USA|Geni is an online...|\n",
            "|180ebf67-68d0-231...|             Flektor|organization|     company|https://www.crunc...|  flektor.com|http://www.flekto...|https://res.cloud...|                null|                null|                null|                  null|   Culver City|California|         USA|Flektor is a mash...|\n",
            "|d70777cc-14bd-241...|Fox Interactive M...|organization|     company|https://www.crunc...|      fox.com|https://www.fox.com/|https://res.cloud...|                null|                null|https://www.linke...|                  null| Beverly Hills|California|         USA|Fox Interactive M...|\n",
            "|5da6106f-0d27-0d3...|             Twitter|organization|     company|https://www.crunc...|  twitter.com|http://www.twitte...|https://res.cloud...|https://www.faceb...|http://twitter.co...|http://www.linked...|             nyse:TWTR| San Francisco|California|         USA|Twitter is a soci...|\n",
            "+--------------------+--------------------+------------+------------+--------------------+-------------+--------------------+--------------------+--------------------+--------------------+--------------------+----------------------+--------------+----------+------------+--------------------+\n",
            "only showing top 10 rows\n",
            "\n"
          ]
        }
      ]
    },
    {
      "cell_type": "code",
      "source": [
        "#Q1: Find all entities with the name that starts with a letter \"F\" (e.g. Facebook, etc.):\n",
        "#print the count and show() the resulting Spark DataFrame\n",
        "df.filter(df.name.startswith(\"F\")).show()\n",
        "\n"
      ],
      "metadata": {
        "colab": {
          "base_uri": "https://localhost:8080/"
        },
        "id": "PtiSJhn7gkvO",
        "outputId": "db91809f-4edd-45eb-8be5-d73010f8791d"
      },
      "execution_count": 9,
      "outputs": [
        {
          "output_type": "stream",
          "name": "stdout",
          "text": [
            "+--------------------+--------------------+------------+------------+--------------------+--------------------+--------------------+--------------------+--------------------+--------------------+--------------------+----------------------+-------------+-------------+------------+--------------------+\n",
            "|                uuid|                name|        type|primary_role|              cb_url|              domain|        homepage_url|            logo_url|        facebook_url|         twitter_url|        linkedin_url|combined_stock_symbols|         city|       region|country_code|   short_description|\n",
            "+--------------------+--------------------+------------+------------+--------------------+--------------------+--------------------+--------------------+--------------------+--------------------+--------------------+----------------------+-------------+-------------+------------+--------------------+\n",
            "|df662812-7f97-0b4...|            Facebook|organization|     company|https://www.crunc...|        facebook.com|http://www.facebo...|https://res.cloud...|https://www.faceb...|https://twitter.c...|http://www.linked...|             nasdaq:FB|   Menlo Park|   California|         USA|Facebook is an on...|\n",
            "|180ebf67-68d0-231...|             Flektor|organization|     company|https://www.crunc...|         flektor.com|http://www.flekto...|https://res.cloud...|                null|                null|                null|                  null|  Culver City|   California|         USA|Flektor is a mash...|\n",
            "|d70777cc-14bd-241...|Fox Interactive M...|organization|     company|https://www.crunc...|             fox.com|https://www.fox.com/|https://res.cloud...|                null|                null|https://www.linke...|                  null|Beverly Hills|   California|         USA|Fox Interactive M...|\n",
            "|622e63a9-147d-c53...|        Funny Or Die|organization|     company|https://www.crunc...|      funnyordie.com|http://funnyordie...|https://res.cloud...|http://www.facebo...|http://twitter.co...|https://www.linke...|                  null|    San Mateo|   California|         USA|Funny Or Die is a...|\n",
            "|5c6f4d9e-dc72-e01...|            Farecast|organization|     company|https://www.crunc...|        farecast.com|http://www.fareca...|https://res.cloud...|                null|http://twitter.co...|                null|                  null|      Seattle|   Washington|         USA|Farecast is an on...|\n",
            "|c750db1b-559a-058...|              Flickr|organization|     company|https://www.crunc...|          flickr.com|http://www.flickr...|https://res.cloud...|http://www.facebo...|http://twitter.co...|http://www.linked...|                  null|    Sunnyvale|   California|         USA|Flickr is an onli...|\n",
            "|eca38df1-1c83-e9f...|             FlickIM|organization|     company|https://www.crunc...| outfittershaven.com|http://www.outfit...|https://res.cloud...|                null|http://twitter.co...|                null|                  null|     Berkeley|   California|         USA|FlickIM is an IM ...|\n",
            "|c3772a88-7696-a8e...|            Flixster|organization|     company|https://www.crunc...|        flixster.com|http://www.flixst...|https://res.cloud...|                null|http://twitter.co...|https://www.linke...|                  null|San Francisco|   California|         USA|Flixster is a mov...|\n",
            "|e84e93ea-a32f-cc2...|              Fandom|organization|     company|https://www.crunc...|          fandom.com|https://www.fando...|https://res.cloud...|https://www.faceb...|https://twitter.c...|https://www.linke...|                  null|San Francisco|   California|         USA|Fandom is a globa...|\n",
            "|6085a95d-a87f-a35...|            Faketown|organization|     company|https://www.crunc...|        faketown.com|http://www.faketo...|https://res.cloud...|https://www.faceb...|                null|https://www.linke...|                  null|       Venice|   California|         USA|Faketown is a 2D ...|\n",
            "|e01aaf68-c7f1-7d2...|          Forbes.com|organization|     company|https://www.crunc...|          forbes.com|http://www.forbes...|https://res.cloud...|http://www.facebo...|http://twitter.co...|http://www.linked...|                  null|     New York|     New York|         USA|Forbes.com is the...|\n",
            "|886dac3f-800a-9b5...|         Flock, Inc.|organization|     company|https://www.crunc...|           flock.com|   https://flock.com|https://res.cloud...|                null|                null|                null|                  null|   Menlo Park|   California|         USA|Flock is a web br...|\n",
            "|f8af0817-50c5-0b9...|            Filtrbox|organization|     company|https://www.crunc...|        filtrbox.com|http://www.filtrb...|https://res.cloud...|                null|                null|                null|                  null|    Palo Alto|   California|         USA|Filtrbox provides...|\n",
            "|e8802b0d-823c-c17...|            FilmLoop|organization|     company|https://www.crunc...|        filmloop.com|http://www.filmlo...|https://res.cloud...|                null|                null|                null|                  null|    Palo Alto|   California|         USA|FilmLoop provides...|\n",
            "|2a5fa1db-4075-04f...|          Friendster|organization|     company|https://www.crunc...|      friendster.com|http://www.friend...|https://res.cloud...|http://www.facebo...|http://twitter.co...|https://www.linke...|                  null|       Makati|       Manila|         PHL|Friendster is a s...|\n",
            "|3ac6ffe9-ac88-f83...|       Fathom Online|organization|     company|https://www.crunc...|    fathomonline.com|http://fathomonli...|https://res.cloud...|                null|                null|                null|                  null|San Francisco|   California|         USA|Fathom Online pro...|\n",
            "|a5a7b65f-e8b1-8a2...|               Frazr|organization|     company|https://www.crunc...|           frazr.com|http://www.frazr.com|https://res.cloud...|https://www.faceb...|https://twitter.c...|https://id.linked...|                  null|   Banyuwangi|       Banten|         IDN|Frazr is a Europe...|\n",
            "|47f68451-c829-864...|             Fotolog|organization|     company|https://www.crunc...|         fotolog.com|http://www.fotolo...|https://res.cloud...|http://www.facebo...|http://twitter.co...|                null|                  null|    Barcelona|    Catalonia|         ESP|Fotolog is a soci...|\n",
            "|b168d7b4-784e-6f1...|    Friends Reunited|organization|     company|https://www.crunc...|friendsreunited.c...|http://www.friend...|https://res.cloud...|https://www.faceb...|http://twitter.co...|                null|                  null|       London|      England|         GBR|Friends Reunited ...|\n",
            "|099de4c9-a587-89e...|            Finetune|organization|     company|https://www.crunc...|        finetune.com| http://finetune.com|https://res.cloud...|                null|http://twitter.co...|                null|                  null|       Newton|Massachusetts|         USA|Finetune is a Fla...|\n",
            "+--------------------+--------------------+------------+------------+--------------------+--------------------+--------------------+--------------------+--------------------+--------------------+--------------------+----------------------+-------------+-------------+------------+--------------------+\n",
            "only showing top 20 rows\n",
            "\n"
          ]
        }
      ]
    },
    {
      "cell_type": "code",
      "source": [
        "df.filter(df.name.startswith(\"F\")).count()"
      ],
      "metadata": {
        "colab": {
          "base_uri": "https://localhost:8080/"
        },
        "id": "i0uT4hW2iqof",
        "outputId": "3504fd04-550e-4f62-d8ad-0c00f171e691"
      },
      "execution_count": 10,
      "outputs": [
        {
          "output_type": "execute_result",
          "data": {
            "text/plain": [
              "40601"
            ]
          },
          "metadata": {},
          "execution_count": 10
        }
      ]
    },
    {
      "cell_type": "code",
      "source": [
        "#Q2:Find all entities located in New York City:\n",
        "#print the count and show() the resulting Spark DataFrame\n",
        "df.filter(df.city == \"New York\").show()"
      ],
      "metadata": {
        "colab": {
          "base_uri": "https://localhost:8080/"
        },
        "id": "vVyUcsWXi_Xs",
        "outputId": "924a723e-7ea5-42bc-9c42-3b182eabd9b5"
      },
      "execution_count": null,
      "outputs": [
        {
          "output_type": "stream",
          "name": "stdout",
          "text": [
            "+--------------------+--------------------+------------+------------+--------------------+-------------------+--------------------+--------------------+--------------------+--------------------+--------------------+----------------------+--------+--------+------------+--------------------+\n",
            "|                uuid|                name|        type|primary_role|              cb_url|             domain|        homepage_url|            logo_url|        facebook_url|         twitter_url|        linkedin_url|combined_stock_symbols|    city|  region|country_code|   short_description|\n",
            "+--------------------+--------------------+------------+------------+--------------------+-------------------+--------------------+--------------------+--------------------+--------------------+--------------------+----------------------+--------+--------+------------+--------------------+\n",
            "|e1393508-30ea-8a3...|            Wetpaint|organization|     company|https://www.crunc...|       wetpaint.com|http://www.wetpai...|https://res.cloud...|https://www.faceb...|https://twitter.c...|https://www.linke...|                  null|New York|New York|         USA|Wetpaint offers a...|\n",
            "|5f2b40b8-d1b3-d32...|                Digg|organization|     company|https://www.crunc...|           digg.com| http://www.digg.com|https://res.cloud...|http://www.facebo...|http://twitter.co...|http://www.linked...|                  null|New York|New York|         USA|Digg Inc. operate...|\n",
            "|56b5f0c1-855f-2eb...|              Gizmoz|organization|     company|https://www.crunc...|         gizmoz.com|   http://gizmoz.com|https://res.cloud...|                null|                null|                null|                  null|New York|New York|         USA|Gizmoz develops p...|\n",
            "|b528bd22-cce5-c60...|             MeetMoi|organization|     company|https://www.crunc...|        meetmoi.com|http://www.meetmo...|https://res.cloud...|                null|http://twitter.co...|                null|                  null|New York|New York|         USA|MeetMoi is a loca...|\n",
            "|90e234e5-c045-f85...|               Joost|organization|     company|https://www.crunc...|          joost.com|    http://joost.com|https://res.cloud...|                null|                null|                null|                  null|New York|New York|         USA|Joost is an inter...|\n",
            "|f09c1228-2e7d-188...|                 CBS|organization|     company|https://www.crunc...|            cbs.com|  http://www.cbs.com|https://res.cloud...|                null|                null|                null|                  null|New York|New York|         USA|CBS is an online ...|\n",
            "|4522b60d-0b04-827...|              Viacom|organization|     company|https://www.crunc...|         viacom.com|http://www.viacom...|https://res.cloud...|http://www.facebo...|http://twitter.co...|https://www.linke...|           nasdaq:VIAB|New York|New York|         USA|Viacom is an Amer...|\n",
            "|1bd1698c-cd0f-37b...|         Time Warner|organization|     company|https://www.crunc...|     timewarner.com|http://www.timewa...|https://res.cloud...|https://www.faceb...|https://twitter.c...|https://www.linke...|              nyse:TWX|New York|New York|         USA|Time Warner is a ...|\n",
            "|30b3efdf-6024-804...|       Goldman Sachs|organization|    investor|https://www.crunc...|   goldmansachs.com|http://www.goldma...|https://res.cloud...|https://www.faceb...|http://twitter.co...|http://www.linked...|               nyse:GS|New York|New York|         USA|Goldman Sachs is ...|\n",
            "|e867f917-49f4-717...|     Jingle Networks|organization|     company|https://www.crunc...| jinglenetworks.com|http://jinglenetw...|https://res.cloud...|https://www.faceb...|http://twitter.co...|                null|                  null|New York|New York|         USA|Jingle Networks i...|\n",
            "|3f2b5885-4257-0d7...|Hearst Communicat...|organization|     company|https://www.crunc...|         hearst.com|http://www.hearst...|https://res.cloud...|https://www.faceb...|https://twitter.c...|https://www.linke...|                  null|New York|New York|         USA|Hearst is large p...|\n",
            "|027a72da-6ad5-1e9...|          Livestream|organization|     company|https://www.crunc...|     livestream.com|https://livestrea...|https://res.cloud...|https://www.faceb...|https://twitter.c...|https://www.linke...|                  null|New York|New York|         USA|Livestream offers...|\n",
            "|93ef5a7c-8369-f25...|     CriticalMetrics|organization|     company|https://www.crunc...|criticalmetrics.com|http://www.critic...|https://res.cloud...|                null|                null|                null|                  null|New York|New York|         USA|    Critical Metrics|\n",
            "|a4aa27bd-c688-65b...|        NBCUniversal|organization|     company|https://www.crunc...|   nbcuniversal.com|http://www.nbcuni...|https://res.cloud...|https://www.faceb...|http://www.twitte...|https://www.linke...|                  null|New York|New York|         USA|NBCUniversal is a...|\n",
            "|9424e721-4ebf-90c...|            Surphace|organization|     company|https://www.crunc...|       surphace.com| http://surphace.com|https://res.cloud...|https://www.faceb...|http://twitter.co...|                null|                  null|New York|New York|         USA|Surphace provides...|\n",
            "|dcc53901-5c7d-dc0...|            KickApps|organization|     company|https://www.crunc...|       kickapps.com|http://www.kickap...|https://res.cloud...|                null|http://twitter.co...|http://www.linked...|                  null|New York|New York|         USA|KickApps is a soc...|\n",
            "|61fe112e-e4fc-0fa...|       Seeking Alpha|organization|     company|https://www.crunc...|   seekingalpha.com|https://seekingal...|https://res.cloud...|https://www.faceb...|https://twitter.c...|https://www.linke...|                  null|New York|New York|         USA|Seeking Alpha is ...|\n",
            "|8c6fc14a-ff57-b7c...|            revlayer|organization|     company|https://www.crunc...|       revlayer.com| http://revlayer.com|https://res.cloud...|                null|                null|                null|                  null|New York|New York|         USA|revlayer offers i...|\n",
            "|0fb367a3-3d1e-730...|     Lehman Brothers|organization|     company|https://www.crunc...|         lehman.com|http://www.lehman...|https://res.cloud...|                null|                null|https://www.linke...|                  null|New York|New York|         USA|Lehman Brothers w...|\n",
            "|505791a5-3533-333...|             WikiYou|organization|     company|https://www.crunc...|        wikiyou.com|http://www.wikiyo...|https://res.cloud...|                null|                null|                null|                  null|New York|New York|         USA|WikiYou is a wiki...|\n",
            "+--------------------+--------------------+------------+------------+--------------------+-------------------+--------------------+--------------------+--------------------+--------------------+--------------------+----------------------+--------+--------+------------+--------------------+\n",
            "only showing top 20 rows\n",
            "\n"
          ]
        }
      ]
    },
    {
      "cell_type": "code",
      "source": [
        "df.filter(df.city == \"New York\").count()"
      ],
      "metadata": {
        "colab": {
          "base_uri": "https://localhost:8080/"
        },
        "id": "EmAAAfJSjnS4",
        "outputId": "3a90b664-ee67-4735-f209-2f4963aafd5e"
      },
      "execution_count": 11,
      "outputs": [
        {
          "output_type": "execute_result",
          "data": {
            "text/plain": [
              "27032"
            ]
          },
          "metadata": {},
          "execution_count": 11
        }
      ]
    },
    {
      "cell_type": "code",
      "source": [
        " import pyspark.pandas as ps"
      ],
      "metadata": {
        "id": "c0WvENRPlBCD",
        "colab": {
          "base_uri": "https://localhost:8080/"
        },
        "outputId": "3f487f1c-ed14-486d-f851-03fc72581934"
      },
      "execution_count": 12,
      "outputs": [
        {
          "output_type": "stream",
          "name": "stderr",
          "text": [
            "WARNING:root:'PYARROW_IGNORE_TIMEZONE' environment variable was not set. It is required to set this environment variable to '1' in both driver and executor sides if you use pyarrow>=2.0.0. pandas-on-Spark will set it for you but it does not work if there is a Spark context already launched.\n"
          ]
        }
      ]
    },
    {
      "cell_type": "code",
      "source": [
        "#Q3:Add a \"Blog\" column to the DataFrame with the row entries set to 1 \n",
        "#if the \"domain\" field contains \"blogspot.com\", and 0 otherwise.\n",
        "#show() only the records with the \"Blog\" field marked as 1\n",
        "\n",
        "df.filter(df.domain.contains(\"blogspot.com\")).count()\n",
        "\n"
      ],
      "metadata": {
        "colab": {
          "base_uri": "https://localhost:8080/"
        },
        "id": "CRTikke1jsfN",
        "outputId": "65617f4c-c291-4821-cdda-3587d803e083"
      },
      "execution_count": 13,
      "outputs": [
        {
          "output_type": "execute_result",
          "data": {
            "text/plain": [
              "394"
            ]
          },
          "metadata": {},
          "execution_count": 13
        }
      ]
    },
    {
      "cell_type": "code",
      "source": [
        "import pyspark.sql.functions as F\n",
        "\n",
        "newdf = df.withColumn('Blog',F.when(df.domain.contains('blogspot.com') == 1,1).otherwise(0))"
      ],
      "metadata": {
        "id": "dtR6N--O0Zt_"
      },
      "execution_count": 14,
      "outputs": []
    },
    {
      "cell_type": "code",
      "source": [
        "newdf.filter(newdf.Blog == 1).show()\n"
      ],
      "metadata": {
        "colab": {
          "base_uri": "https://localhost:8080/"
        },
        "id": "IechFqfyiGks",
        "outputId": "d501b482-d231-40d6-cc30-c56b7006667e"
      },
      "execution_count": 15,
      "outputs": [
        {
          "output_type": "stream",
          "name": "stdout",
          "text": [
            "+--------------------+--------------------+------------+------------+--------------------+--------------------+--------------------+--------------------+--------------------+--------------------+--------------------+----------------------+-------------+------------+------------+--------------------+----+\n",
            "|                uuid|                name|        type|primary_role|              cb_url|              domain|        homepage_url|            logo_url|        facebook_url|         twitter_url|        linkedin_url|combined_stock_symbols|         city|      region|country_code|   short_description|Blog|\n",
            "+--------------------+--------------------+------------+------------+--------------------+--------------------+--------------------+--------------------+--------------------+--------------------+--------------------+----------------------+-------------+------------+------------+--------------------+----+\n",
            "|783b2aa6-7742-69e...|     Sad Urdu Poetry|organization|     company|https://www.crunc...|urdupoetryluvers....|https://urdupoetr...|https://res.cloud...|http://www.facebo...|http://twitter.co...|                null|                  null|  San Antonio|       Texas|         USA|In this blog you ...|   1|\n",
            "|04d01884-5a97-659...|      The Tech-Freak|organization|     company|https://www.crunc...|thetech-freak.blo...|https://thetech-f...|https://res.cloud...|                null|                null|                null|                  null|    Sheffield|   Sheffield|         GBR|Here, you will ge...|   1|\n",
            "|add92473-75da-f33...|           Ma.Gnolia|organization|     company|https://www.crunc...|grydinin.blogspot...|https://grydinin....|https://res.cloud...|https://www.faceb...|https://twitter.c...|                null|                  null|San Francisco|  California|         USA|Ma.Gnolia is an o...|   1|\n",
            "|79bb965b-96e5-331...|      Dynasty Online|organization|     company|https://www.crunc...|dynasty-series.bl...|http://www.dynast...|                null|                null|                null|                null|                  null|         null|        null|        null|Dynasty Online is...|   1|\n",
            "|17f606ea-7b28-454...|            Hire-seo|organization|     company|https://www.crunc...|hello-seo.blogspo...|http://hello-seo....|https://res.cloud...|https://www.faceb...|                null|                null|                  null|         null|        null|        null|Search Engine Opt...|   1|\n",
            "|42676562-6a0a-900...|          YelloYello|organization|     company|https://www.crunc...|dailytechmonde.bl...|https://dailytech...|https://res.cloud...|                null|                null|                null|                  null|     Rijswijk|Zuid-Holland|         NLD|YelloYello offers...|   1|\n",
            "|4712c024-7891-c5b...|       Youtubehiphop|organization|     company|https://www.crunc...|youtubehiphop.blo...|http://youtubehip...|https://res.cloud...|                null|http://twitter.co...|                null|                  null|    São Paulo|   Sao Paulo|         BRA|Hiphop news, mp3 ...|   1|\n",
            "|f725a645-0161-8c1...|     Payday advances|organization|     company|https://www.crunc...|thepaydayadvances...|http://thepaydaya...|https://res.cloud...|                null|                null|                null|                  null|         null|        null|        null|Payday advances, ...|   1|\n",
            "|95f0ddf4-bf03-2b6...|Blog Traffic Exch...|organization|     company|https://www.crunc...|pettlepop.blogspo...|http://pettlepop....|https://res.cloud...|                null|http://twitter.co...|                null|                  null|   Menlo Park|  California|         USA|Blog Traffic Exch...|   1|\n",
            "|7128c0b4-d30f-472...|Sirius Forex Trad...|organization|     company|https://www.crunc...|forex-8022.blogsp...|http://forex-8022...|https://res.cloud...|http://www.facebo...|http://twitter.co...|http://www.linked...|                  null|         null|        null|        null|Currency trading ...|   1|\n",
            "|bec30065-9d9e-0a9...|          Utilsforge|organization|     company|https://www.crunc...|utilsforge.blogsp...|http://utilsforge...|                null|                null|                null|                null|                  null|     Delaware|        Ohio|         USA|Utilsforge is a s...|   1|\n",
            "|93301a6c-1c28-d63...|      Discover India|organization|     company|https://www.crunc...|discover-of-india...|http://discover-o...|                null|http://www.facebo...|http://twitter.co...|                null|                  null|    Faridabad|     Haryana|         IND|Discover India ta...|   1|\n",
            "|fea16ec3-807c-97f...|   Latest Home Decor|organization|     company|https://www.crunc...|latesthomedecor.b...|http://latesthome...|https://res.cloud...|                null|                null|                null|                  null|         null|        null|        null|All about the lat...|   1|\n",
            "|63cf8ff1-f618-a8a...|Sanguinet Consulting|organization|     company|https://www.crunc...|herdinstincts.blo...|http://herdinstin...|                null|                null|                null|                null|                  null|San Francisco|  California|         USA|Sanguinet Consult...|   1|\n",
            "|628c51f2-06e3-865...|  john kenneth rosel|organization|     company|https://www.crunc...|johnkennethroselm...|http://johnkennet...|https://res.cloud...|https://www.faceb...|http://twitter.co...|                null|                  null|San Francisco|  California|         USA|john kenneth rose...|   1|\n",
            "|cf970801-c6e0-7ba...|Web Solution Prov...|organization|     company|https://www.crunc...|snap.blogspot.blo...|http://www.snap.b...|                null|                null|                null|                null|                  null|         null|        null|        null|Web Development a...|   1|\n",
            "|e3ae629f-2252-200...|Walking Ants Tech...|organization|     company|https://www.crunc...|walkingants.blogs...|http://walkingant...|                null|                null|                null|                null|                  null|         null|        null|        null|Walking Ants Tech...|   1|\n",
            "|0a260da7-03fe-a55...|      BypassFanPages|organization|     company|https://www.crunc...|bypassfanpages.bl...|http://bypassfanp...|https://res.cloud...|http://www.facebo...|                null|                null|                  null|         null|        null|        null|BypassFanPages is...|   1|\n",
            "|2877b716-4c4d-3bb...|      List Australia|organization|     company|https://www.crunc...|australianlists.b...|http://australian...|https://res.cloud...|http://www.facebo...|http://twitter.co...|http://www.linked...|                  null|    Melbourne|    Victoria|         AUS|Largest Australia...|   1|\n",
            "|54c0d50e-3d59-ac8...|NeverAnEmptyGlass...|organization|     company|https://www.crunc...|neveranemptyglass...|http://neveranemp...|https://res.cloud...|http://www.facebo...|http://twitter.co...|http://www.linked...|                  null|   Scottsdale|     Arizona|         USA|Search Engine Opt...|   1|\n",
            "+--------------------+--------------------+------------+------------+--------------------+--------------------+--------------------+--------------------+--------------------+--------------------+--------------------+----------------------+-------------+------------+------------+--------------------+----+\n",
            "only showing top 20 rows\n",
            "\n"
          ]
        }
      ]
    },
    {
      "cell_type": "code",
      "source": [
        "#Find all entities with names that are palindromes (name reads the same way forward and reverse, e.g. madam):\n",
        "#print the count and show() the resulting Spark DataFrame "
      ],
      "metadata": {
        "id": "1ZL13zH1Lb_J"
      },
      "execution_count": null,
      "outputs": []
    },
    {
      "cell_type": "code",
      "source": [
        "def palindrome(row):\n",
        "  return True if row[::-1].lower()==row.lower() else False"
      ],
      "metadata": {
        "id": "1TYwuQalRDNo"
      },
      "execution_count": 43,
      "outputs": []
    },
    {
      "cell_type": "code",
      "source": [
        "from pyspark.sql.functions import udf\n"
      ],
      "metadata": {
        "id": "r7M6pIieR0vT"
      },
      "execution_count": 45,
      "outputs": []
    },
    {
      "cell_type": "code",
      "source": [
        "import pyarrow"
      ],
      "metadata": {
        "id": "c2Vmlu-rIi52"
      },
      "execution_count": 35,
      "outputs": []
    },
    {
      "cell_type": "code",
      "source": [
        "spark.conf.get(\"spark.sql.excution.arrow.enabled\", \"true\")"
      ],
      "metadata": {
        "colab": {
          "base_uri": "https://localhost:8080/",
          "height": 35
        },
        "id": "ZMzbazTTJmzB",
        "outputId": "d5cc3c43-c6ea-424c-c5fa-a6902f7bae1b"
      },
      "execution_count": 46,
      "outputs": [
        {
          "output_type": "execute_result",
          "data": {
            "text/plain": [
              "'true'"
            ],
            "application/vnd.google.colaboratory.intrinsic+json": {
              "type": "string"
            }
          },
          "metadata": {},
          "execution_count": 46
        }
      ]
    },
    {
      "cell_type": "code",
      "source": [
        "from pyspark.sql.functions import pandas_udf\n",
        "from pyspark.sql.functions import PandasUDFType"
      ],
      "metadata": {
        "id": "PIaoFge4KDWD"
      },
      "execution_count": 47,
      "outputs": []
    },
    {
      "cell_type": "code",
      "source": [
        "check_palindrome = udf(palindrome,BooleanType())"
      ],
      "metadata": {
        "id": "duQvYGqdSUcv"
      },
      "execution_count": 48,
      "outputs": []
    },
    {
      "cell_type": "code",
      "source": [
        "df2=df.select(\"*\",check_palindrome(\"name\"))"
      ],
      "metadata": {
        "id": "K9ryzTZeMVVX"
      },
      "execution_count": 66,
      "outputs": []
    },
    {
      "cell_type": "code",
      "source": [
        "df2.filter(check_palindrome('name')).show()"
      ],
      "metadata": {
        "colab": {
          "base_uri": "https://localhost:8080/"
        },
        "id": "HbZTzj6mIXFA",
        "outputId": "f4dc7ee2-77da-4794-abea-f3bbadb50cdc"
      },
      "execution_count": 75,
      "outputs": [
        {
          "output_type": "stream",
          "name": "stdout",
          "text": [
            "+--------------------+-------+------------+------------+--------------------+-----------+--------------------+--------------------+--------------------+--------------------+--------------------+----------------------+--------------------+--------------------+------------+--------------------+----------------+\n",
            "|                uuid|   name|        type|primary_role|              cb_url|     domain|        homepage_url|            logo_url|        facebook_url|         twitter_url|        linkedin_url|combined_stock_symbols|                city|              region|country_code|   short_description|palindrome(name)|\n",
            "+--------------------+-------+------------+------------+--------------------+-----------+--------------------+--------------------+--------------------+--------------------+--------------------+----------------------+--------------------+--------------------+------------+--------------------+----------------+\n",
            "|a94a240a-9929-424...| Revver|organization|     company|https://www.crunc...| revver.com|   http://revver.com|https://res.cloud...|                null|http://twitter.co...|                null|                  null|         Los Angeles|          California|         USA|Revver is a video...|            true|\n",
            "|ae1ec5c5-5352-cd5...|  KAYAK|organization|     company|https://www.crunc...|  kayak.com|http://www.kayak.com|https://res.cloud...|https://www.faceb...|http://twitter.co...|https://www.linke...|           nasdaq:KYAK|            Stamford|         Connecticut|         USA|KAYAK helps milli...|            true|\n",
            "|88fd97b3-fe59-525...|  ooVoo|organization|     company|https://www.crunc...|  oovoo.com|http://www.oovoo.com|https://res.cloud...|http://www.facebo...|http://twitter.co...|                null|                  null|            New York|            New York|         USA|ooVoo is a social...|            true|\n",
            "|b0c1c006-375d-73b...|Imikimi|organization|     company|https://www.crunc...|imikimi.com|  http://imikimi.com|https://res.cloud...|https://www.faceb...|http://twitter.co...|                null|                  null|             Seattle|          Washington|         USA|Imikimi is an onl...|            true|\n",
            "|db8f1d7f-bb75-789...|   Teet|organization|     company|https://www.crunc...|   teet.net| http://www.teet.net|https://res.cloud...|                null|                null|                null|                  null|        Lva Tolstogo|              Kaluga|         RUS|Web-based Games, ...|            true|\n",
            "|45258c77-b164-689...| Mollom|organization|     company|https://www.crunc...| mollom.com|   http://mollom.com|https://res.cloud...|http://www.facebo...|http://twitter.co...|http://www.linked...|                  null|Berchem-sainte-ag...|Brussels Hoofdste...|         BEL|Mollom is a web s...|            true|\n",
            "|0b5a5055-a4e5-4f9...|  63336|organization|     company|https://www.crunc...|  63336.com|http://www.63336.com|https://res.cloud...|http://www.facebo...|http://twitter.co...|                null|                  null|              London|             England|         GBR|63336 is a AI-ena...|            true|\n",
            "|711e15e2-b358-a01...|  TipiT|organization|     company|https://www.crunc...|   tipit.to|     http://tipit.to|https://res.cloud...|http://www.facebo...|http://twitter.co...|                null|                  null|               Delft|        Zuid-Holland|         NLD|TipiT is a servic...|            true|\n",
            "|755bbfae-619e-a8b...|  beweb|organization|     company|https://www.crunc...|beweb.co.nz|http://www.beweb....|https://res.cloud...|https://www.faceb...|                null|https://www.linke...|                  null|            Auckland|            Auckland|         NZL|Beweb is a web de...|            true|\n",
            "|7f5d8bcd-5e3d-97e...|    CSC|organization|     company|https://www.crunc...|    csc.com|  http://www.csc.com|https://res.cloud...|http://www.facebo...|http://twitter.co...|http://www.linked...|              nyse:CSC|        Falls Church|            Virginia|         USA|CSC is an IT serv...|            true|\n",
            "|1d77f9fb-4db1-603...|    CBC|organization|     company|https://www.crunc...|     cbc.ca|  http://www.cbc.ca/|https://res.cloud...|http://www.facebo...|http://twitter.co...|https://www.linke...|                  null|              Ottawa|             Ontario|         CAN|CBC is a Canadian...|            true|\n",
            "|deb134e7-ca7e-8fd...|  Orbro|organization|     company|https://www.crunc...|  orbro.com|http://www.orbro.com|https://res.cloud...|http://www.facebo...|https://www.twitt...|                null|                  null|              Howell|            Michigan|         USA|Orbro is a growin...|            true|\n",
            "|26d5d37b-8be2-242...|    OQO|organization|     company|https://www.crunc...|    oqo.com|  http://www.oqo.com|https://res.cloud...|                null|                null|                null|                  null|       San Francisco|          California|         USA|OQO makes ultra-m...|            true|\n",
            "|5fab4f75-20bb-c58...|Revyver|organization|     company|https://www.crunc...|revyver.com|http://www.revyve...|https://res.cloud...|                null|https://www.twitt...|                null|                  null|                null|                null|        null|Revyver, founded ...|            true|\n",
            "|ab35b82f-7bbc-2a3...|    SAS|organization|     company|https://www.crunc...|    sas.com|  http://www.sas.com|https://res.cloud...|http://www.facebo...|http://twitter.co...|http://www.linked...|                  null|                Cary|      North Carolina|         USA|SAS provides adva...|            true|\n",
            "|71f83ef4-e8db-956...|WowOwow|organization|     company|https://www.crunc...|wowowow.com|http://www.wowowo...|https://res.cloud...|https://www.faceb...|http://twitter.co...|                null|                  null|            New York|            New York|         USA|WowOwow is an onl...|            true|\n",
            "|ed77a13b-0930-a3c...|    e4e|organization|     company|https://www.crunc...|nthrive.com|https://www.nthri...|https://res.cloud...|https://www.faceb...|https://twitter.c...|https://www.linke...|                  null|         Santa Clara|          California|         USA|e4e, a business p...|            true|\n",
            "|31c6bfe8-7986-c69...|    PHP|organization|     company|https://www.crunc...|    php.net| http://www.php.net/|https://res.cloud...|http://www.facebo...|http://twitter.co...|                null|                  null|         Little Rock|            Arkansas|         USA|PHP is a coding l...|            true|\n",
            "|e90ac051-7310-85d...|    ivi|organization|     company|https://www.crunc...|     ivi.tv|   http://www.ivi.tv|https://res.cloud...|https://www.faceb...|http://www.twitte...|https://www.linke...|                  null|              Moscow|         Moscow City|         RUS|ivi is a video-on...|            true|\n",
            "|368cb93b-7e52-ce2...|   ADDA|organization|     company|https://www.crunc...|    adda.io|     https://adda.io|https://res.cloud...|https://www.faceb...|https://twitter.c...|https://www.linke...|                  null|           Bangalore|           Karnataka|         IND|ADDA is a softwar...|            true|\n",
            "+--------------------+-------+------------+------------+--------------------+-----------+--------------------+--------------------+--------------------+--------------------+--------------------+----------------------+--------------------+--------------------+------------+--------------------+----------------+\n",
            "only showing top 20 rows\n",
            "\n"
          ]
        }
      ]
    },
    {
      "cell_type": "code",
      "source": [
        "df2.filter(check_palindrome('name')).count()"
      ],
      "metadata": {
        "id": "mCO5aQvlNI6b"
      },
      "execution_count": null,
      "outputs": []
    }
  ]
}